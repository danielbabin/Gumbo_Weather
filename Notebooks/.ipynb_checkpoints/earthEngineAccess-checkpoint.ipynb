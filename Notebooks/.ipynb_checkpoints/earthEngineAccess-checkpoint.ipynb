{
 "cells": [
  {
   "cell_type": "code",
   "execution_count": 1,
   "id": "c7d1246f",
   "metadata": {},
   "outputs": [],
   "source": [
    "import ee\n",
    "import geemap\n",
    "import seaborn as sns"
   ]
  },
  {
   "cell_type": "markdown",
   "id": "2f3b869c",
   "metadata": {},
   "source": [
    "# Shapefiles"
   ]
  },
  {
   "cell_type": "code",
   "execution_count": 2,
   "id": "931cc67a",
   "metadata": {},
   "outputs": [
    {
     "data": {
      "application/vnd.jupyter.widget-view+json": {
       "model_id": "f9a50bd9c5d6447299e1b849471b8dc1",
       "version_major": 2,
       "version_minor": 0
      },
      "text/plain": [
       "Map(center=[30.902226699175234, -91.7982404778954], controls=(WidgetControl(options=['position', 'transparent_…"
      ]
     },
     "metadata": {},
     "output_type": "display_data"
    }
   ],
   "source": [
    "Map=geemap.Map(center=[40, -100], zoom=4)\n",
    "\n",
    "laShp=ee.FeatureCollection('TIGER/2018/States') \\\n",
    "    .filter(ee.Filter.eq(\"NAME\", 'Louisiana'))\n",
    "laGeo=laShp.geometry() \n",
    "\n",
    "Map.centerObject(laShp, 6)\n",
    "Map.addLayer(laShp, {}, 'Louisiana')\n",
    "# Map.addLayer(waterMaskedLaNDVI.first().select('NDVI'), vis_params, 'Louisiana')\n",
    "\n",
    "Map.addLayerControl()\n",
    "Map"
   ]
  },
  {
   "cell_type": "markdown",
   "id": "7ed5ebff",
   "metadata": {},
   "source": [
    "# Data Management\n",
    "Import datasets, select bands, then calculate Normalized Difference Vegetation Index (NDVI)"
   ]
  },
  {
   "cell_type": "code",
   "execution_count": 3,
   "id": "39dca5a5",
   "metadata": {},
   "outputs": [],
   "source": [
    "# modis=ee.ImageCollection(\"MODIS/006/MOD09GQ\")\n",
    "modis=ee.ImageCollection(\"MODIS/006/MOD09GA\")"
   ]
  },
  {
   "cell_type": "markdown",
   "id": "036ca837",
   "metadata": {},
   "source": [
    "# Calculate NDVI"
   ]
  },
  {
   "cell_type": "code",
   "execution_count": 4,
   "id": "ba9a2d2e",
   "metadata": {},
   "outputs": [],
   "source": [
    "def getNDVI(image):\n",
    "    ndvi=image.normalizedDifference(['sur_refl_b02','sur_refl_b01']).rename('NDVI')\n",
    "    return image.addBands(ndvi);"
   ]
  },
  {
   "cell_type": "code",
   "execution_count": 5,
   "id": "2cb32bda",
   "metadata": {},
   "outputs": [],
   "source": [
    "NDVI=modis.map(getNDVI)"
   ]
  },
  {
   "cell_type": "markdown",
   "id": "22d8dda2",
   "metadata": {},
   "source": [
    "# Filter Bounds"
   ]
  },
  {
   "cell_type": "code",
   "execution_count": 6,
   "id": "eb172eba",
   "metadata": {},
   "outputs": [],
   "source": [
    "def clipLouisiana(image):\n",
    "    return image.clip(laGeo)"
   ]
  },
  {
   "cell_type": "code",
   "execution_count": 7,
   "id": "16b9e755",
   "metadata": {},
   "outputs": [],
   "source": [
    "laNDVI=NDVI.map(clipLouisiana)"
   ]
  },
  {
   "cell_type": "markdown",
   "id": "f37bc68c",
   "metadata": {},
   "source": [
    "# Mask Water"
   ]
  },
  {
   "cell_type": "code",
   "execution_count": 8,
   "id": "7ae0f7e7",
   "metadata": {},
   "outputs": [],
   "source": [
    "water=ee.ImageCollection(\"MODIS/006/MOD44W\").first().select('water_mask')\n",
    "waterVis = {'min':0.0,'max':1.0,'palette':['bcba99','2d0491']}"
   ]
  },
  {
   "cell_type": "code",
   "execution_count": 9,
   "id": "772bb03d",
   "metadata": {},
   "outputs": [
    {
     "data": {
      "application/vnd.jupyter.widget-view+json": {
       "model_id": "5db895aab9aa4a66a29a32e12aba367c",
       "version_major": 2,
       "version_minor": 0
      },
      "text/plain": [
       "Map(center=[30.902226699175234, -91.7982404778954], controls=(WidgetControl(options=['position', 'transparent_…"
      ]
     },
     "metadata": {},
     "output_type": "display_data"
    }
   ],
   "source": [
    "WaterMap=geemap.Map(center=[40, -100], zoom=6)\n",
    "WaterMap.addLayer(water, waterVis, 'Water Mask')\n",
    "WaterMap.centerObject(laShp, 6)\n",
    "WaterMap"
   ]
  },
  {
   "cell_type": "markdown",
   "id": "ac9a5d95",
   "metadata": {},
   "source": [
    "## Perform masking"
   ]
  },
  {
   "cell_type": "markdown",
   "id": "3394bd2d",
   "metadata": {},
   "source": [
    "### Mask Clouds and Water"
   ]
  },
  {
   "cell_type": "code",
   "execution_count": 10,
   "id": "32c50556",
   "metadata": {},
   "outputs": [],
   "source": [
    "def bitwiseExtract(value,fromBit,toBit=None):\n",
    "    if (toBit==None):\n",
    "        toBit=fromBit\n",
    "    maskSize=ee.Number(1).add(toBit).subtract(fromBit)\n",
    "    mask=ee.Number(1).leftShift(maskSize).subtract(1)\n",
    "    return value.rightShift(fromBit).bitwiseAnd(mask)"
   ]
  },
  {
   "cell_type": "code",
   "execution_count": 11,
   "id": "aea840e9",
   "metadata": {},
   "outputs": [],
   "source": [
    "def applyMask(image):\n",
    "    qa=image.select('state_1km')\n",
    "    cloudState = bitwiseExtract(qa,10)\n",
    "    landState = bitwiseExtract(qa,3,5)\n",
    "    mask = (cloudState.eq(0)).And(landState.eq(1))\n",
    "    return image.updateMask(mask)  "
   ]
  },
  {
   "cell_type": "code",
   "execution_count": 12,
   "id": "214483c6",
   "metadata": {},
   "outputs": [],
   "source": [
    "maskedLaNDVI=laNDVI.map(applyMask)"
   ]
  },
  {
   "cell_type": "markdown",
   "id": "842783ab",
   "metadata": {},
   "source": [
    "### Other Water Mask"
   ]
  },
  {
   "cell_type": "code",
   "execution_count": 13,
   "id": "0660e9bc",
   "metadata": {},
   "outputs": [],
   "source": [
    "waterMask=water.eq(0)"
   ]
  },
  {
   "cell_type": "code",
   "execution_count": 14,
   "id": "ea54e8dd",
   "metadata": {},
   "outputs": [],
   "source": [
    "def applyWaterMask(image):\n",
    "    return image.updateMask(waterMask)"
   ]
  },
  {
   "cell_type": "code",
   "execution_count": 15,
   "id": "85088a26",
   "metadata": {},
   "outputs": [],
   "source": [
    "waterMaskedLaNDVI=laNDVI.map(applyWaterMask)"
   ]
  },
  {
   "cell_type": "markdown",
   "id": "52344556",
   "metadata": {},
   "source": [
    "### Mask Clouds"
   ]
  },
  {
   "cell_type": "code",
   "execution_count": 16,
   "id": "6c184201",
   "metadata": {},
   "outputs": [],
   "source": [
    "def applyCloudMask(image):\n",
    "    qa=image.select('state_1km')\n",
    "    bitMask = 1 << 10; # selects bit 10\n",
    "    return image.updateMask(qa.bitwiseAnd(bitMask).eq(0)) # checks if they are equal to 0 (highest quaity)"
   ]
  },
  {
   "cell_type": "code",
   "execution_count": 17,
   "id": "05bd2376",
   "metadata": {},
   "outputs": [],
   "source": [
    "cloudWaterMaskedLaNDVI=waterMaskedLaNDVI.map(applyCloudMask)"
   ]
  },
  {
   "cell_type": "code",
   "execution_count": 55,
   "id": "c7e747b2",
   "metadata": {},
   "outputs": [],
   "source": [
    "summer_palette=sns.color_palette('summer_r').as_hex()\n",
    "vis_params = {\n",
    "  'min': 0,\n",
    "  'max': 1,\n",
    "  'palette': summer_palette}"
   ]
  },
  {
   "cell_type": "code",
   "execution_count": 19,
   "id": "91604bc4",
   "metadata": {},
   "outputs": [
    {
     "data": {
      "application/vnd.jupyter.widget-view+json": {
       "model_id": "918aa0598cd647cdb31ca95ffd0f5028",
       "version_major": 2,
       "version_minor": 0
      },
      "text/plain": [
       "Map(center=[30.902226699175234, -91.7982404778954], controls=(WidgetControl(options=['position', 'transparent_…"
      ]
     },
     "metadata": {},
     "output_type": "display_data"
    }
   ],
   "source": [
    "qaMap=Map=geemap.Map(center=[40, -100], zoom=4)\n",
    "Map.centerObject(laShp, 6)\n",
    "Map.addLayer(maskedLaNDVI.first().select('NDVI'), vis_params, 'QA', True, 1)\n",
    "qaMap"
   ]
  },
  {
   "cell_type": "markdown",
   "id": "104fab0b",
   "metadata": {},
   "source": [
    "## Slice for export"
   ]
  },
  {
   "cell_type": "code",
   "execution_count": 20,
   "id": "efae19a9",
   "metadata": {},
   "outputs": [],
   "source": [
    "laWater=water.clip(laGeo)"
   ]
  },
  {
   "cell_type": "markdown",
   "id": "9c8045f8",
   "metadata": {},
   "source": [
    "# Filter Dates"
   ]
  },
  {
   "cell_type": "code",
   "execution_count": 21,
   "id": "6269f55c",
   "metadata": {},
   "outputs": [],
   "source": [
    "# years=ee.List.sequence(2000,2020)\n",
    "years=range(2000,2021)"
   ]
  },
  {
   "cell_type": "code",
   "execution_count": 58,
   "id": "a9e908c2",
   "metadata": {},
   "outputs": [],
   "source": [
    "def yearly_image(year):\n",
    "    start_date=ee.Date.fromYMD(year, 11, 1) \n",
    "    end_date=start_date.advance(2, \"week\")\n",
    "    collection=maskedLaNDVI.filterDate(start_date, end_date) \n",
    "    image=collection.mean()\n",
    "    return image"
   ]
  },
  {
   "cell_type": "code",
   "execution_count": 59,
   "id": "c9902b8a",
   "metadata": {},
   "outputs": [],
   "source": [
    "fallSnapshots={}"
   ]
  },
  {
   "cell_type": "code",
   "execution_count": 60,
   "id": "3a75d2ec",
   "metadata": {},
   "outputs": [],
   "source": [
    "for year in years:\n",
    "    fallSnapshots[year]=yearly_image(year)"
   ]
  },
  {
   "cell_type": "markdown",
   "id": "2e06f67c",
   "metadata": {},
   "source": [
    "# Add Layer to Map"
   ]
  },
  {
   "cell_type": "code",
   "execution_count": 61,
   "id": "7a4c407c",
   "metadata": {},
   "outputs": [],
   "source": [
    "Map=geemap.Map(center=[40, -100], zoom=4)\n",
    "Map.addLayer(fallSnapshots[2001].select('NDVI'), vis_params, 'NDVI 2000', True, 1)\n",
    "Map.centerObject(laShp, 6)\n",
    "Map.add_colorbar(vis_params, label=\"NDVI\", layer_name=\"NDVI 2000\")"
   ]
  },
  {
   "cell_type": "code",
   "execution_count": 62,
   "id": "777f22f8",
   "metadata": {},
   "outputs": [
    {
     "data": {
      "application/vnd.jupyter.widget-view+json": {
       "model_id": "b206333be80b4216bb7107140bec2730",
       "version_major": 2,
       "version_minor": 0
      },
      "text/plain": [
       "Map(center=[30.902226699175234, -91.7982404778954], controls=(WidgetControl(options=['position', 'transparent_…"
      ]
     },
     "metadata": {},
     "output_type": "display_data"
    }
   ],
   "source": [
    "Map"
   ]
  },
  {
   "cell_type": "markdown",
   "id": "6b966b5b",
   "metadata": {},
   "source": [
    "# Export Images"
   ]
  },
  {
   "cell_type": "code",
   "execution_count": 72,
   "id": "7cf8f7c7",
   "metadata": {},
   "outputs": [],
   "source": [
    "fall_out_path='/Users/danielbabin/GitHub/LouisianaWinters/Data/NDVI_Fall_20y/'"
   ]
  },
  {
   "cell_type": "code",
   "execution_count": 44,
   "id": "8736900f",
   "metadata": {
    "scrolled": true
   },
   "outputs": [
    {
     "name": "stdout",
     "output_type": "stream",
     "text": [
      "Generating URL ...\n",
      "Downloading data from https://earthengine.googleapis.com/v1alpha/projects/earthengine-legacy/thumbnails/167e97e8db76876ed50cbf0c595e6671-2d36af3d9ca613147a50980c5524fc2c:getPixels\n",
      "Please wait ...\n",
      "Data downloaded to /Users/danielbabin/GitHub/LouisianaWinters/Data/NDVI_20y\n",
      "Generating URL ...\n",
      "Downloading data from https://earthengine.googleapis.com/v1alpha/projects/earthengine-legacy/thumbnails/3f3fd37bfb8970fe23968028c5a1dea3-6fead4526a98a4c70c40c5120af4d522:getPixels\n",
      "Please wait ...\n",
      "Data downloaded to /Users/danielbabin/GitHub/LouisianaWinters/Data/NDVI_20y\n",
      "Generating URL ...\n",
      "Downloading data from https://earthengine.googleapis.com/v1alpha/projects/earthengine-legacy/thumbnails/d14dd6333b23e9e9afaedc55be3d521a-b305c22e6c21a4cc6156749874bcd4c2:getPixels\n",
      "Please wait ...\n",
      "Data downloaded to /Users/danielbabin/GitHub/LouisianaWinters/Data/NDVI_20y\n",
      "Generating URL ...\n",
      "Downloading data from https://earthengine.googleapis.com/v1alpha/projects/earthengine-legacy/thumbnails/3ad47af17b94e5847dd9b1e01a036422-b32bcc4b43e604d24ff49dee99721537:getPixels\n",
      "Please wait ...\n",
      "Data downloaded to /Users/danielbabin/GitHub/LouisianaWinters/Data/NDVI_20y\n",
      "Generating URL ...\n",
      "Downloading data from https://earthengine.googleapis.com/v1alpha/projects/earthengine-legacy/thumbnails/5c1c8ed87f96af67e6f63322a8aae2ca-8f97039b938868276476fd10aec42b7c:getPixels\n",
      "Please wait ...\n",
      "Data downloaded to /Users/danielbabin/GitHub/LouisianaWinters/Data/NDVI_20y\n",
      "Generating URL ...\n",
      "Downloading data from https://earthengine.googleapis.com/v1alpha/projects/earthengine-legacy/thumbnails/e27d60feea6c5fd8ebe5cc6ffb0937cb-2b486324701c6db108c1411b9904a7b8:getPixels\n",
      "Please wait ...\n",
      "Data downloaded to /Users/danielbabin/GitHub/LouisianaWinters/Data/NDVI_20y\n",
      "Generating URL ...\n",
      "Downloading data from https://earthengine.googleapis.com/v1alpha/projects/earthengine-legacy/thumbnails/1526b17106872b2fb0274a1065dd51b2-250fd54d5c6949405180dc53b96d3849:getPixels\n",
      "Please wait ...\n",
      "Data downloaded to /Users/danielbabin/GitHub/LouisianaWinters/Data/NDVI_20y\n",
      "Generating URL ...\n",
      "Downloading data from https://earthengine.googleapis.com/v1alpha/projects/earthengine-legacy/thumbnails/baaa2520392f112ddee47ac6bcc60747-f79b43df738c5dacf7555d365b250449:getPixels\n",
      "Please wait ...\n",
      "Data downloaded to /Users/danielbabin/GitHub/LouisianaWinters/Data/NDVI_20y\n",
      "Generating URL ...\n",
      "Downloading data from https://earthengine.googleapis.com/v1alpha/projects/earthengine-legacy/thumbnails/9a4239c66b77fbccf33a56b037ad9b32-4a1ade1cd863ed51d154e87236cf0af7:getPixels\n",
      "Please wait ...\n",
      "Data downloaded to /Users/danielbabin/GitHub/LouisianaWinters/Data/NDVI_20y\n",
      "Generating URL ...\n",
      "Downloading data from https://earthengine.googleapis.com/v1alpha/projects/earthengine-legacy/thumbnails/546911403c659efa0eb793b75800406d-813a0aa0a7c639e882357d0468dd4504:getPixels\n",
      "Please wait ...\n",
      "Data downloaded to /Users/danielbabin/GitHub/LouisianaWinters/Data/NDVI_20y\n",
      "Generating URL ...\n",
      "Downloading data from https://earthengine.googleapis.com/v1alpha/projects/earthengine-legacy/thumbnails/119fa1fb6718eb3c5e342368f3e04bc5-3b275dba64b40c191ec7f03a6b765f45:getPixels\n",
      "Please wait ...\n",
      "Data downloaded to /Users/danielbabin/GitHub/LouisianaWinters/Data/NDVI_20y\n",
      "Generating URL ...\n",
      "Downloading data from https://earthengine.googleapis.com/v1alpha/projects/earthengine-legacy/thumbnails/3a79ac2186ee23cfb94a623b1246c969-bce789bd0883fdd0713382bf33830423:getPixels\n",
      "Please wait ...\n",
      "Data downloaded to /Users/danielbabin/GitHub/LouisianaWinters/Data/NDVI_20y\n",
      "Generating URL ...\n",
      "Downloading data from https://earthengine.googleapis.com/v1alpha/projects/earthengine-legacy/thumbnails/bb2308a047efcde71697965245b1a058-4a9c31ccd31921bc79f79835479c66e3:getPixels\n",
      "Please wait ...\n",
      "Data downloaded to /Users/danielbabin/GitHub/LouisianaWinters/Data/NDVI_20y\n",
      "Generating URL ...\n",
      "Downloading data from https://earthengine.googleapis.com/v1alpha/projects/earthengine-legacy/thumbnails/27cffaa32543ec60043d05e5ef74e14e-d9505b8ca222262373265e70a231ced1:getPixels\n",
      "Please wait ...\n",
      "Data downloaded to /Users/danielbabin/GitHub/LouisianaWinters/Data/NDVI_20y\n",
      "Generating URL ...\n",
      "Downloading data from https://earthengine.googleapis.com/v1alpha/projects/earthengine-legacy/thumbnails/438925afbb6c0b94982a8ddddd25d438-d3db281c2e37b2d90bccf8f81c932c8c:getPixels\n",
      "Please wait ...\n",
      "Data downloaded to /Users/danielbabin/GitHub/LouisianaWinters/Data/NDVI_20y\n",
      "Generating URL ...\n",
      "Downloading data from https://earthengine.googleapis.com/v1alpha/projects/earthengine-legacy/thumbnails/0be5e10acb01bfd9813fb96dc790c7b5-a3d59ff63a248b5e1bb56209fdd4a055:getPixels\n",
      "Please wait ...\n",
      "Data downloaded to /Users/danielbabin/GitHub/LouisianaWinters/Data/NDVI_20y\n",
      "Generating URL ...\n",
      "Downloading data from https://earthengine.googleapis.com/v1alpha/projects/earthengine-legacy/thumbnails/fdd529899f4bb761f193e8a978c6462b-779b1716360e127d5baba00a1531ad46:getPixels\n",
      "Please wait ...\n",
      "Data downloaded to /Users/danielbabin/GitHub/LouisianaWinters/Data/NDVI_20y\n",
      "Generating URL ...\n",
      "Downloading data from https://earthengine.googleapis.com/v1alpha/projects/earthengine-legacy/thumbnails/5725f6c003b81bf5f8a0ce1cc0c8b751-db2c4e76b75d5736217f709fb67c1e87:getPixels\n",
      "Please wait ...\n",
      "Data downloaded to /Users/danielbabin/GitHub/LouisianaWinters/Data/NDVI_20y\n",
      "Generating URL ...\n",
      "Downloading data from https://earthengine.googleapis.com/v1alpha/projects/earthengine-legacy/thumbnails/492eebeb357057b2640e54ed15186263-34b87beaf0b44287d1c0d57e22f6295d:getPixels\n",
      "Please wait ...\n",
      "Data downloaded to /Users/danielbabin/GitHub/LouisianaWinters/Data/NDVI_20y\n",
      "Generating URL ...\n",
      "Downloading data from https://earthengine.googleapis.com/v1alpha/projects/earthengine-legacy/thumbnails/a24ebd6ffe9ef7bb5681b7c201a94c6d-bf0799dfb0bdf2def1b1325b7261099e:getPixels\n",
      "Please wait ...\n",
      "Data downloaded to /Users/danielbabin/GitHub/LouisianaWinters/Data/NDVI_20y\n",
      "Generating URL ...\n",
      "Downloading data from https://earthengine.googleapis.com/v1alpha/projects/earthengine-legacy/thumbnails/0b85f8d367f9efd0851adaba2f9f27bc-56d07267eff06e2c733beb237a34f773:getPixels\n",
      "Please wait ...\n",
      "Data downloaded to /Users/danielbabin/GitHub/LouisianaWinters/Data/NDVI_20y\n"
     ]
    }
   ],
   "source": [
    "for yr in range(2000,2021):\n",
    "    geemap.ee_export_image(fallSnapshots[yr].select('NDVI'), filename=fall_out_path+str(yr)+'.tif', \n",
    "                           scale=500, region=laGeo, file_per_band=True,crs='EPSG:3857')"
   ]
  },
  {
   "cell_type": "code",
   "execution_count": 154,
   "id": "36b849dc",
   "metadata": {},
   "outputs": [
    {
     "name": "stdout",
     "output_type": "stream",
     "text": [
      "Generating URL ...\n",
      "Downloading data from https://earthengine.googleapis.com/v1alpha/projects/earthengine-legacy/thumbnails/ee9f116165ef563fe6b824437be7fa10-d73edb83eaed5f2eccaa0525f73f3936:getPixels\n",
      "Please wait ...\n",
      "Data downloaded to /Users/danielbabin/GitHub/LouisianaWinters/Data/NDVI_20y\n"
     ]
    }
   ],
   "source": [
    "geemap.ee_export_image(laWater, filename=out_path+'water.tif', \n",
    "                           scale=250, region=laGeo,file_per_band=True,crs='EPSG:4326')"
   ]
  },
  {
   "cell_type": "markdown",
   "id": "4a734f69",
   "metadata": {},
   "source": [
    "# One Year"
   ]
  },
  {
   "cell_type": "code",
   "execution_count": 64,
   "id": "7ffeb00e",
   "metadata": {},
   "outputs": [],
   "source": [
    "week_num=range(0,53)"
   ]
  },
  {
   "cell_type": "code",
   "execution_count": 109,
   "id": "1358442d",
   "metadata": {},
   "outputs": [],
   "source": [
    "def weekly_image(week_num):\n",
    "    series_start_date=ee.Date.fromYMD(2020, 2, 1)\n",
    "    image_start_date=series_start_date.advance(week_num, \"week\")\n",
    "    image_end_date=series_start_date.advance(week_num+1, \"week\")\n",
    "    collection=maskedLaNDVI.filterDate(image_start_date, image_end_date) \n",
    "    image=collection.mean()\n",
    "    return image"
   ]
  },
  {
   "cell_type": "code",
   "execution_count": 66,
   "id": "e1dd182b",
   "metadata": {},
   "outputs": [],
   "source": [
    "weeklySnapshots={}"
   ]
  },
  {
   "cell_type": "code",
   "execution_count": 67,
   "id": "96dbe93d",
   "metadata": {},
   "outputs": [],
   "source": [
    "for week in week_num:\n",
    "    weeklySnapshots[week]=weekly_image(week)"
   ]
  },
  {
   "cell_type": "code",
   "execution_count": 70,
   "id": "991d388b",
   "metadata": {},
   "outputs": [],
   "source": [
    "Map=geemap.Map(center=[40, -100], zoom=4)\n",
    "Map.addLayer(weeklySnapshots[0].select('NDVI'), vis_params, 'NDVI February', True, 1)\n",
    "Map.addLayer(weeklySnapshots[26].select('NDVI'), vis_params, 'NDVI August', True, 1)\n",
    "Map.centerObject(laShp, 6)\n",
    "Map.add_colorbar(vis_params, label=\"NDVI\", layer_name=\"NDVI 2000\")"
   ]
  },
  {
   "cell_type": "code",
   "execution_count": 71,
   "id": "1939a38e",
   "metadata": {},
   "outputs": [
    {
     "data": {
      "application/vnd.jupyter.widget-view+json": {
       "model_id": "5e8a512b234b409386c2460186e53bbf",
       "version_major": 2,
       "version_minor": 0
      },
      "text/plain": [
       "Map(center=[30.902226699175234, -91.7982404778954], controls=(WidgetControl(options=['position', 'transparent_…"
      ]
     },
     "metadata": {},
     "output_type": "display_data"
    }
   ],
   "source": [
    "Map"
   ]
  },
  {
   "cell_type": "markdown",
   "id": "fd35a0bb",
   "metadata": {},
   "source": [
    "## Export"
   ]
  },
  {
   "cell_type": "code",
   "execution_count": 75,
   "id": "6711496c",
   "metadata": {},
   "outputs": [],
   "source": [
    "weekly_out_path='/Users/danielbabin/GitHub/LouisianaWinters/Data/NDVI_Weekly_1y/'"
   ]
  },
  {
   "cell_type": "code",
   "execution_count": 78,
   "id": "0cd20a00",
   "metadata": {
    "scrolled": true
   },
   "outputs": [
    {
     "name": "stdout",
     "output_type": "stream",
     "text": [
      "Generating URL ...\n",
      "Downloading data from https://earthengine.googleapis.com/v1alpha/projects/earthengine-legacy/thumbnails/272663d24662ea452fe286ff12dbaac3-c298cfd4eee5195933b598c6d683a3f0:getPixels\n",
      "Please wait ...\n",
      "Data downloaded to /Users/danielbabin/GitHub/LouisianaWinters/Data/NDVI_Weekly_1y\n",
      "Generating URL ...\n",
      "Downloading data from https://earthengine.googleapis.com/v1alpha/projects/earthengine-legacy/thumbnails/0055599f3c90af6fa8ad727765b6588a-ba2e2d174413335a50d2b1a81a7dbd43:getPixels\n",
      "Please wait ...\n",
      "Data downloaded to /Users/danielbabin/GitHub/LouisianaWinters/Data/NDVI_Weekly_1y\n",
      "Generating URL ...\n",
      "Downloading data from https://earthengine.googleapis.com/v1alpha/projects/earthengine-legacy/thumbnails/b72e4cbd18bc6d30ced4a4db0826306e-8c1ec3f42ad598c29fc7d3a5baae111b:getPixels\n",
      "Please wait ...\n",
      "Data downloaded to /Users/danielbabin/GitHub/LouisianaWinters/Data/NDVI_Weekly_1y\n",
      "Generating URL ...\n",
      "Downloading data from https://earthengine.googleapis.com/v1alpha/projects/earthengine-legacy/thumbnails/b5b7b792166c8a8c94da057e9d7befc9-7abff05821ca44d7d6bdceefd81f79fe:getPixels\n",
      "Please wait ...\n",
      "Data downloaded to /Users/danielbabin/GitHub/LouisianaWinters/Data/NDVI_Weekly_1y\n",
      "Generating URL ...\n",
      "Downloading data from https://earthengine.googleapis.com/v1alpha/projects/earthengine-legacy/thumbnails/0156c6981a78fcc936aac4687fa2f8d9-df5bc4b31f6c01a96e0cef3283106361:getPixels\n",
      "Please wait ...\n",
      "Data downloaded to /Users/danielbabin/GitHub/LouisianaWinters/Data/NDVI_Weekly_1y\n",
      "Generating URL ...\n",
      "Downloading data from https://earthengine.googleapis.com/v1alpha/projects/earthengine-legacy/thumbnails/566df4644476d4b1903cf9f5ebb9fce4-5eefdb6df8b3f7905edf5c8332e94186:getPixels\n",
      "Please wait ...\n",
      "Data downloaded to /Users/danielbabin/GitHub/LouisianaWinters/Data/NDVI_Weekly_1y\n",
      "Generating URL ...\n",
      "Downloading data from https://earthengine.googleapis.com/v1alpha/projects/earthengine-legacy/thumbnails/42f2bd33eff877cb6428e9531dbb9e8f-2caf8ca595e7cae88d633ce9169b2ae6:getPixels\n",
      "Please wait ...\n",
      "Data downloaded to /Users/danielbabin/GitHub/LouisianaWinters/Data/NDVI_Weekly_1y\n",
      "Generating URL ...\n",
      "Downloading data from https://earthengine.googleapis.com/v1alpha/projects/earthengine-legacy/thumbnails/2914f92f680cf2035616bd7aaa142208-e3754f23ca650ebcdf05985c643a5a8f:getPixels\n",
      "Please wait ...\n",
      "Data downloaded to /Users/danielbabin/GitHub/LouisianaWinters/Data/NDVI_Weekly_1y\n",
      "Generating URL ...\n",
      "Downloading data from https://earthengine.googleapis.com/v1alpha/projects/earthengine-legacy/thumbnails/8a4a6109286808aec03e28aebfc5dfea-3e5aed4bff46a440fd77d6477c4af44f:getPixels\n",
      "Please wait ...\n",
      "Data downloaded to /Users/danielbabin/GitHub/LouisianaWinters/Data/NDVI_Weekly_1y\n",
      "Generating URL ...\n",
      "Downloading data from https://earthengine.googleapis.com/v1alpha/projects/earthengine-legacy/thumbnails/6d70ff1f4bf6e1db0d43a68501b30714-21e92ea461ea2789edc0490877a21ac9:getPixels\n",
      "Please wait ...\n",
      "Data downloaded to /Users/danielbabin/GitHub/LouisianaWinters/Data/NDVI_Weekly_1y\n",
      "Generating URL ...\n",
      "Downloading data from https://earthengine.googleapis.com/v1alpha/projects/earthengine-legacy/thumbnails/f674b4c71a68359759dbe2ff6fa06eb0-b1778e03072a422e92444edcdf86321c:getPixels\n",
      "Please wait ...\n",
      "Data downloaded to /Users/danielbabin/GitHub/LouisianaWinters/Data/NDVI_Weekly_1y\n",
      "Generating URL ...\n",
      "Downloading data from https://earthengine.googleapis.com/v1alpha/projects/earthengine-legacy/thumbnails/f9422a86f34a509fdf0f2740b89ed4d7-6eb047d79665e04fa426b52eae524004:getPixels\n",
      "Please wait ...\n",
      "Data downloaded to /Users/danielbabin/GitHub/LouisianaWinters/Data/NDVI_Weekly_1y\n",
      "Generating URL ...\n",
      "Downloading data from https://earthengine.googleapis.com/v1alpha/projects/earthengine-legacy/thumbnails/93ef2c64806bb8777862d11c440556ba-0b66d8f76d4741baeaf2310c5e8413eb:getPixels\n",
      "Please wait ...\n",
      "Data downloaded to /Users/danielbabin/GitHub/LouisianaWinters/Data/NDVI_Weekly_1y\n",
      "Generating URL ...\n",
      "Downloading data from https://earthengine.googleapis.com/v1alpha/projects/earthengine-legacy/thumbnails/9ba631a4d238d2214deb6136b255b55d-82a9729bb6c748a00e2cc6b2cb504cde:getPixels\n",
      "Please wait ...\n",
      "Data downloaded to /Users/danielbabin/GitHub/LouisianaWinters/Data/NDVI_Weekly_1y\n",
      "Generating URL ...\n",
      "Downloading data from https://earthengine.googleapis.com/v1alpha/projects/earthengine-legacy/thumbnails/86a821721b67df5a13bc3204c1f83503-57ee539b3efb2192804cf34bf9f019f4:getPixels\n",
      "Please wait ...\n",
      "Data downloaded to /Users/danielbabin/GitHub/LouisianaWinters/Data/NDVI_Weekly_1y\n",
      "Generating URL ...\n",
      "Downloading data from https://earthengine.googleapis.com/v1alpha/projects/earthengine-legacy/thumbnails/23b7d80d27ea25939a88cd08a5b7e744-469173f2e75d499578e12956f5432fe6:getPixels\n",
      "Please wait ...\n",
      "Data downloaded to /Users/danielbabin/GitHub/LouisianaWinters/Data/NDVI_Weekly_1y\n",
      "Generating URL ...\n",
      "Downloading data from https://earthengine.googleapis.com/v1alpha/projects/earthengine-legacy/thumbnails/8adc9efa904f06f8bd821fe172e81422-f80fc50a479cbae0865f3e6d2a5e5185:getPixels\n",
      "Please wait ...\n",
      "Data downloaded to /Users/danielbabin/GitHub/LouisianaWinters/Data/NDVI_Weekly_1y\n",
      "Generating URL ...\n",
      "Downloading data from https://earthengine.googleapis.com/v1alpha/projects/earthengine-legacy/thumbnails/ac6aad78daf987682fc8c430811381c9-e4a4cc7d58d6bb9e5bcea95e9f53353d:getPixels\n",
      "Please wait ...\n",
      "Data downloaded to /Users/danielbabin/GitHub/LouisianaWinters/Data/NDVI_Weekly_1y\n",
      "Generating URL ...\n",
      "Downloading data from https://earthengine.googleapis.com/v1alpha/projects/earthengine-legacy/thumbnails/3ddb5a68e9e923d0753fe73a077f65a6-ab8724473126f1c2ba5062c859332717:getPixels\n",
      "Please wait ...\n",
      "Data downloaded to /Users/danielbabin/GitHub/LouisianaWinters/Data/NDVI_Weekly_1y\n",
      "Generating URL ...\n",
      "Downloading data from https://earthengine.googleapis.com/v1alpha/projects/earthengine-legacy/thumbnails/fc74201033f15ca215ff0600b02e81d5-73a14d20251887f2c87d780c17f65640:getPixels\n",
      "Please wait ...\n",
      "Data downloaded to /Users/danielbabin/GitHub/LouisianaWinters/Data/NDVI_Weekly_1y\n",
      "Generating URL ...\n",
      "Downloading data from https://earthengine.googleapis.com/v1alpha/projects/earthengine-legacy/thumbnails/03178cba6bc681c00d46c86a299cd7d9-c5e3b09f096d0706a11df7b3cc902964:getPixels\n",
      "Please wait ...\n",
      "Data downloaded to /Users/danielbabin/GitHub/LouisianaWinters/Data/NDVI_Weekly_1y\n",
      "Generating URL ...\n",
      "Downloading data from https://earthengine.googleapis.com/v1alpha/projects/earthengine-legacy/thumbnails/95a5b9bbd47fee741aa3cd8aad1cdc15-1b9d61c48a25bec039a67912995df6c8:getPixels\n",
      "Please wait ...\n",
      "Data downloaded to /Users/danielbabin/GitHub/LouisianaWinters/Data/NDVI_Weekly_1y\n",
      "Generating URL ...\n",
      "Downloading data from https://earthengine.googleapis.com/v1alpha/projects/earthengine-legacy/thumbnails/09d586198c34da7e1426d5f11ba79225-441b93e10eced5c1a80a69d4f220730c:getPixels\n",
      "Please wait ...\n",
      "Data downloaded to /Users/danielbabin/GitHub/LouisianaWinters/Data/NDVI_Weekly_1y\n",
      "Generating URL ...\n",
      "Downloading data from https://earthengine.googleapis.com/v1alpha/projects/earthengine-legacy/thumbnails/3e0f4e44632b8734c1fe2bf88e5e2137-89032f433c614fd726d2f12c277b770a:getPixels\n",
      "Please wait ...\n",
      "Data downloaded to /Users/danielbabin/GitHub/LouisianaWinters/Data/NDVI_Weekly_1y\n",
      "Generating URL ...\n",
      "Downloading data from https://earthengine.googleapis.com/v1alpha/projects/earthengine-legacy/thumbnails/272306f2e2dc21e8d3f406cadbeebeea-86901895fa628515c0e9f3409cedc321:getPixels\n",
      "Please wait ...\n",
      "Data downloaded to /Users/danielbabin/GitHub/LouisianaWinters/Data/NDVI_Weekly_1y\n",
      "Generating URL ...\n",
      "Downloading data from https://earthengine.googleapis.com/v1alpha/projects/earthengine-legacy/thumbnails/926cba0e305ddc6aa1e9da7a120f340a-4adb7389a01452a6c81dd55399c3d044:getPixels\n",
      "Please wait ...\n",
      "Data downloaded to /Users/danielbabin/GitHub/LouisianaWinters/Data/NDVI_Weekly_1y\n",
      "Generating URL ...\n",
      "Downloading data from https://earthengine.googleapis.com/v1alpha/projects/earthengine-legacy/thumbnails/e236c8aa1264a96321ae5bc71a0d63cb-d350da0c1edb1323e157c6e2f8683a20:getPixels\n",
      "Please wait ...\n",
      "Data downloaded to /Users/danielbabin/GitHub/LouisianaWinters/Data/NDVI_Weekly_1y\n",
      "Generating URL ...\n",
      "Downloading data from https://earthengine.googleapis.com/v1alpha/projects/earthengine-legacy/thumbnails/1e5c0b14de21aaed7d1bfe8fa418e2d7-a0370dc2b0028fbb7c54512cfb6656da:getPixels\n",
      "Please wait ...\n"
     ]
    },
    {
     "name": "stdout",
     "output_type": "stream",
     "text": [
      "Data downloaded to /Users/danielbabin/GitHub/LouisianaWinters/Data/NDVI_Weekly_1y\n",
      "Generating URL ...\n",
      "Downloading data from https://earthengine.googleapis.com/v1alpha/projects/earthengine-legacy/thumbnails/b4615fad6b99ba60e37927453e2c3cf3-1f8f7d37653b28ca8064a3ac493e48c0:getPixels\n",
      "Please wait ...\n",
      "Data downloaded to /Users/danielbabin/GitHub/LouisianaWinters/Data/NDVI_Weekly_1y\n",
      "Generating URL ...\n",
      "Downloading data from https://earthengine.googleapis.com/v1alpha/projects/earthengine-legacy/thumbnails/3b445c80c3eeebf89843f51c7ff65779-a0d311434114cfcca2f7262e9e8fd74b:getPixels\n",
      "Please wait ...\n",
      "Data downloaded to /Users/danielbabin/GitHub/LouisianaWinters/Data/NDVI_Weekly_1y\n",
      "Generating URL ...\n",
      "Downloading data from https://earthengine.googleapis.com/v1alpha/projects/earthengine-legacy/thumbnails/1cbb6bca8021050fd1f89352e8ac7728-6a84f1f04ba968142e25e79bc75f9a96:getPixels\n",
      "Please wait ...\n",
      "Data downloaded to /Users/danielbabin/GitHub/LouisianaWinters/Data/NDVI_Weekly_1y\n",
      "Generating URL ...\n",
      "Downloading data from https://earthengine.googleapis.com/v1alpha/projects/earthengine-legacy/thumbnails/6f88118b54d478d6c908bddcfc920dd6-5b56f0f3388db9f6f48ef0c0af0c0968:getPixels\n",
      "Please wait ...\n",
      "Data downloaded to /Users/danielbabin/GitHub/LouisianaWinters/Data/NDVI_Weekly_1y\n",
      "Generating URL ...\n",
      "Downloading data from https://earthengine.googleapis.com/v1alpha/projects/earthengine-legacy/thumbnails/3853b607ee33a49c703fc0af4a8bc200-4c8be2dfc5d9cfd206aab66800983c1f:getPixels\n",
      "Please wait ...\n",
      "Data downloaded to /Users/danielbabin/GitHub/LouisianaWinters/Data/NDVI_Weekly_1y\n",
      "Generating URL ...\n",
      "Downloading data from https://earthengine.googleapis.com/v1alpha/projects/earthengine-legacy/thumbnails/80f835b3c4343785c4fe107dad005260-e8e431907c401e40d686494264a0c391:getPixels\n",
      "Please wait ...\n",
      "Data downloaded to /Users/danielbabin/GitHub/LouisianaWinters/Data/NDVI_Weekly_1y\n",
      "Generating URL ...\n",
      "Downloading data from https://earthengine.googleapis.com/v1alpha/projects/earthengine-legacy/thumbnails/2354ec7a70d054077a3d7bb64cb03db3-848b74d98bc4e7f196244c6f04846c15:getPixels\n",
      "Please wait ...\n",
      "Data downloaded to /Users/danielbabin/GitHub/LouisianaWinters/Data/NDVI_Weekly_1y\n",
      "Generating URL ...\n",
      "Downloading data from https://earthengine.googleapis.com/v1alpha/projects/earthengine-legacy/thumbnails/7f4142f94115467fd0bbcf9b1828cc0e-70eb68b96f4fd0183a354068b26f9c83:getPixels\n",
      "Please wait ...\n",
      "Data downloaded to /Users/danielbabin/GitHub/LouisianaWinters/Data/NDVI_Weekly_1y\n",
      "Generating URL ...\n",
      "Downloading data from https://earthengine.googleapis.com/v1alpha/projects/earthengine-legacy/thumbnails/58bd518d9d68e0ad7597d62e445f42cb-e86cf86baaaf5c3f8c02d849de6b8a0f:getPixels\n",
      "Please wait ...\n",
      "Data downloaded to /Users/danielbabin/GitHub/LouisianaWinters/Data/NDVI_Weekly_1y\n",
      "Generating URL ...\n",
      "Downloading data from https://earthengine.googleapis.com/v1alpha/projects/earthengine-legacy/thumbnails/a8875c90bfc5dc427664e2816d370f74-faab655bcb0e71473d303e005ba4d205:getPixels\n",
      "Please wait ...\n",
      "Data downloaded to /Users/danielbabin/GitHub/LouisianaWinters/Data/NDVI_Weekly_1y\n",
      "Generating URL ...\n",
      "Downloading data from https://earthengine.googleapis.com/v1alpha/projects/earthengine-legacy/thumbnails/1d356f8a41f14f20a7b35eecc0afecb5-11a7d2e2b2472047c7f0ce58761686d6:getPixels\n",
      "Please wait ...\n",
      "Data downloaded to /Users/danielbabin/GitHub/LouisianaWinters/Data/NDVI_Weekly_1y\n",
      "Generating URL ...\n",
      "Downloading data from https://earthengine.googleapis.com/v1alpha/projects/earthengine-legacy/thumbnails/74cd19596106d192f9a24d682bcc8857-e40dc5b3b1358b9ee58ebc79f8fa7983:getPixels\n",
      "Please wait ...\n",
      "Data downloaded to /Users/danielbabin/GitHub/LouisianaWinters/Data/NDVI_Weekly_1y\n",
      "Generating URL ...\n",
      "Downloading data from https://earthengine.googleapis.com/v1alpha/projects/earthengine-legacy/thumbnails/7e144fc8791e3476b40447f10cf814a0-196bbe2860ef255836d0d1bcbd45d591:getPixels\n",
      "Please wait ...\n",
      "Data downloaded to /Users/danielbabin/GitHub/LouisianaWinters/Data/NDVI_Weekly_1y\n",
      "Generating URL ...\n",
      "Downloading data from https://earthengine.googleapis.com/v1alpha/projects/earthengine-legacy/thumbnails/07bff27ff3711f077838934963aa421b-12b012be05db96a7d7a79b39b1d8477d:getPixels\n",
      "Please wait ...\n",
      "Data downloaded to /Users/danielbabin/GitHub/LouisianaWinters/Data/NDVI_Weekly_1y\n",
      "Generating URL ...\n",
      "Downloading data from https://earthengine.googleapis.com/v1alpha/projects/earthengine-legacy/thumbnails/c27b64593386f21685b93582973ff5b3-6eeffb78864f965d6a78a11f61145be0:getPixels\n",
      "Please wait ...\n",
      "Data downloaded to /Users/danielbabin/GitHub/LouisianaWinters/Data/NDVI_Weekly_1y\n",
      "Generating URL ...\n",
      "Downloading data from https://earthengine.googleapis.com/v1alpha/projects/earthengine-legacy/thumbnails/a958318a14c9148e381aa7ba76d8259d-0c2593867b53ab070e6ffccf45d8cb1a:getPixels\n",
      "Please wait ...\n",
      "Data downloaded to /Users/danielbabin/GitHub/LouisianaWinters/Data/NDVI_Weekly_1y\n",
      "Generating URL ...\n",
      "Downloading data from https://earthengine.googleapis.com/v1alpha/projects/earthengine-legacy/thumbnails/720f3bf4f905661654c197cab518f56a-73abd5ad733fa937ab48ec8ec51eaee7:getPixels\n",
      "Please wait ...\n",
      "Data downloaded to /Users/danielbabin/GitHub/LouisianaWinters/Data/NDVI_Weekly_1y\n",
      "Generating URL ...\n",
      "Downloading data from https://earthengine.googleapis.com/v1alpha/projects/earthengine-legacy/thumbnails/8017295f4ad052732e29369b122299bb-6128973638e9f25de82fd4dc6c3557dd:getPixels\n",
      "Please wait ...\n",
      "Data downloaded to /Users/danielbabin/GitHub/LouisianaWinters/Data/NDVI_Weekly_1y\n",
      "Generating URL ...\n",
      "Downloading data from https://earthengine.googleapis.com/v1alpha/projects/earthengine-legacy/thumbnails/90ee1f9b22034032953049f8c67d2d2d-b6c2b59e1dea9e46ded6be7f21497c1f:getPixels\n",
      "Please wait ...\n",
      "Data downloaded to /Users/danielbabin/GitHub/LouisianaWinters/Data/NDVI_Weekly_1y\n",
      "Generating URL ...\n",
      "Downloading data from https://earthengine.googleapis.com/v1alpha/projects/earthengine-legacy/thumbnails/ed8559ac2212730ecc141b41d0f6f016-9d19bba9334b075d9a538a5f4451e8a4:getPixels\n",
      "Please wait ...\n",
      "Data downloaded to /Users/danielbabin/GitHub/LouisianaWinters/Data/NDVI_Weekly_1y\n",
      "Generating URL ...\n",
      "Downloading data from https://earthengine.googleapis.com/v1alpha/projects/earthengine-legacy/thumbnails/da88f03c6549f6188d2ac8512ac20449-fbaac181743b80716d0800ada3da3258:getPixels\n",
      "Please wait ...\n",
      "Data downloaded to /Users/danielbabin/GitHub/LouisianaWinters/Data/NDVI_Weekly_1y\n",
      "Generating URL ...\n",
      "Downloading data from https://earthengine.googleapis.com/v1alpha/projects/earthengine-legacy/thumbnails/39f6dc83ac8ad38d665887d117a1cb10-268c40df4ab4ff6ecd48e11aa6cb0a46:getPixels\n",
      "Please wait ...\n",
      "Data downloaded to /Users/danielbabin/GitHub/LouisianaWinters/Data/NDVI_Weekly_1y\n",
      "Generating URL ...\n",
      "Downloading data from https://earthengine.googleapis.com/v1alpha/projects/earthengine-legacy/thumbnails/e4b4c2d063ded71138b18036bb4309c3-a60ca2091032355f0316c1829339c8f9:getPixels\n",
      "Please wait ...\n",
      "Data downloaded to /Users/danielbabin/GitHub/LouisianaWinters/Data/NDVI_Weekly_1y\n",
      "Generating URL ...\n",
      "Downloading data from https://earthengine.googleapis.com/v1alpha/projects/earthengine-legacy/thumbnails/eb6e5a9af3bbd46acf679bd2124630a7-0c1bd57ece14e01616a042bd8a6fc170:getPixels\n",
      "Please wait ...\n",
      "Data downloaded to /Users/danielbabin/GitHub/LouisianaWinters/Data/NDVI_Weekly_1y\n",
      "Generating URL ...\n",
      "Downloading data from https://earthengine.googleapis.com/v1alpha/projects/earthengine-legacy/thumbnails/ea866d7901e305b137ce59cf7dce6e96-6d21e011cbcba44a2720d9c6030174a6:getPixels\n",
      "Please wait ...\n",
      "Data downloaded to /Users/danielbabin/GitHub/LouisianaWinters/Data/NDVI_Weekly_1y\n"
     ]
    }
   ],
   "source": [
    "for wk in range(0,53):\n",
    "    geemap.ee_export_image(weeklySnapshots[wk].select('NDVI'), filename=weekly_out_path+str(wk)+'.tif', \n",
    "                           scale=500, region=laGeo, file_per_band=True,crs='EPSG:3857')"
   ]
  },
  {
   "cell_type": "markdown",
   "id": "314f122c",
   "metadata": {},
   "source": [
    "# Time Series"
   ]
  },
  {
   "cell_type": "code",
   "execution_count": 110,
   "id": "63339249",
   "metadata": {},
   "outputs": [],
   "source": [
    "week_num_TS=range(0,1131)"
   ]
  },
  {
   "cell_type": "code",
   "execution_count": 135,
   "id": "0d05cb22",
   "metadata": {},
   "outputs": [],
   "source": [
    "import numpy as np"
   ]
  },
  {
   "cell_type": "code",
   "execution_count": 140,
   "id": "61ea8b3d",
   "metadata": {},
   "outputs": [],
   "source": [
    "def weekly_image_TS(week_num):\n",
    "    series_start_date=ee.Date.fromYMD(2000, 2, 24)\n",
    "    image_start_date=series_start_date.advance(week_num, \"week\")\n",
    "    image_end_date=series_start_date.advance(week_num+1, \"week\")\n",
    "    collection=maskedLaNDVI.filterDate(image_start_date, image_end_date).select('NDVI')\n",
    "    image=collection.mean()\n",
    "    if len(image.getInfo()['bands'])==0:\n",
    "        return np.nan\n",
    "    else:\n",
    "        mean=geemap.image_stats(image,region=laGeo,scale=250).getInfo()['mean']['NDVI']\n",
    "    return mean"
   ]
  },
  {
   "cell_type": "code",
   "execution_count": 141,
   "id": "f3afccbb",
   "metadata": {},
   "outputs": [],
   "source": [
    "timeSeriesNDVI=[]"
   ]
  },
  {
   "cell_type": "code",
   "execution_count": 126,
   "id": "7ecefac9",
   "metadata": {},
   "outputs": [
    {
     "ename": "KeyError",
     "evalue": "'NDVI'",
     "output_type": "error",
     "traceback": [
      "\u001b[0;31m---------------------------------------------------------------------------\u001b[0m",
      "\u001b[0;31mKeyError\u001b[0m                                  Traceback (most recent call last)",
      "\u001b[0;32m/var/folders/0d/558_c385167_rhq6m2ykzd_40000gn/T/ipykernel_38858/1698361170.py\u001b[0m in \u001b[0;36m<module>\u001b[0;34m\u001b[0m\n\u001b[1;32m      1\u001b[0m \u001b[0;32mfor\u001b[0m \u001b[0mwk\u001b[0m \u001b[0;32min\u001b[0m \u001b[0mrange\u001b[0m\u001b[0;34m(\u001b[0m\u001b[0;36m25\u001b[0m\u001b[0;34m,\u001b[0m\u001b[0;36m1131\u001b[0m\u001b[0;34m)\u001b[0m\u001b[0;34m:\u001b[0m\u001b[0;34m\u001b[0m\u001b[0;34m\u001b[0m\u001b[0m\n\u001b[1;32m      2\u001b[0m     \u001b[0mdisplay\u001b[0m\u001b[0;34m.\u001b[0m\u001b[0mclear_output\u001b[0m\u001b[0;34m(\u001b[0m\u001b[0mwait\u001b[0m\u001b[0;34m=\u001b[0m\u001b[0;32mTrue\u001b[0m\u001b[0;34m)\u001b[0m\u001b[0;34m\u001b[0m\u001b[0;34m\u001b[0m\u001b[0m\n\u001b[0;32m----> 3\u001b[0;31m     \u001b[0mtimeSeriesNDVI2\u001b[0m\u001b[0;34m.\u001b[0m\u001b[0mappend\u001b[0m\u001b[0;34m(\u001b[0m\u001b[0mweekly_image_TS\u001b[0m\u001b[0;34m(\u001b[0m\u001b[0mwk\u001b[0m\u001b[0;34m)\u001b[0m\u001b[0;34m)\u001b[0m\u001b[0;34m\u001b[0m\u001b[0;34m\u001b[0m\u001b[0m\n\u001b[0m\u001b[1;32m      4\u001b[0m     \u001b[0mprint\u001b[0m\u001b[0;34m(\u001b[0m\u001b[0mwk\u001b[0m\u001b[0;34m)\u001b[0m\u001b[0;34m\u001b[0m\u001b[0;34m\u001b[0m\u001b[0m\n",
      "\u001b[0;32m/var/folders/0d/558_c385167_rhq6m2ykzd_40000gn/T/ipykernel_38858/2923070108.py\u001b[0m in \u001b[0;36mweekly_image_TS\u001b[0;34m(week_num)\u001b[0m\n\u001b[1;32m      5\u001b[0m     \u001b[0mcollection\u001b[0m\u001b[0;34m=\u001b[0m\u001b[0mmaskedLaNDVI\u001b[0m\u001b[0;34m.\u001b[0m\u001b[0mfilterDate\u001b[0m\u001b[0;34m(\u001b[0m\u001b[0mimage_start_date\u001b[0m\u001b[0;34m,\u001b[0m \u001b[0mimage_end_date\u001b[0m\u001b[0;34m)\u001b[0m \u001b[0;34m.\u001b[0m\u001b[0mselect\u001b[0m\u001b[0;34m(\u001b[0m\u001b[0;34m'NDVI'\u001b[0m\u001b[0;34m)\u001b[0m\u001b[0;34m\u001b[0m\u001b[0;34m\u001b[0m\u001b[0m\n\u001b[1;32m      6\u001b[0m     \u001b[0mimage\u001b[0m\u001b[0;34m=\u001b[0m\u001b[0mcollection\u001b[0m\u001b[0;34m.\u001b[0m\u001b[0mmean\u001b[0m\u001b[0;34m(\u001b[0m\u001b[0;34m)\u001b[0m\u001b[0;34m\u001b[0m\u001b[0;34m\u001b[0m\u001b[0m\n\u001b[0;32m----> 7\u001b[0;31m     \u001b[0mmean\u001b[0m\u001b[0;34m=\u001b[0m\u001b[0mgeemap\u001b[0m\u001b[0;34m.\u001b[0m\u001b[0mimage_stats\u001b[0m\u001b[0;34m(\u001b[0m\u001b[0mimage\u001b[0m\u001b[0;34m,\u001b[0m\u001b[0mregion\u001b[0m\u001b[0;34m=\u001b[0m\u001b[0mlaGeo\u001b[0m\u001b[0;34m,\u001b[0m\u001b[0mscale\u001b[0m\u001b[0;34m=\u001b[0m\u001b[0;36m250\u001b[0m\u001b[0;34m)\u001b[0m\u001b[0;34m.\u001b[0m\u001b[0mgetInfo\u001b[0m\u001b[0;34m(\u001b[0m\u001b[0;34m)\u001b[0m\u001b[0;34m[\u001b[0m\u001b[0;34m'mean'\u001b[0m\u001b[0;34m]\u001b[0m\u001b[0;34m[\u001b[0m\u001b[0;34m'NDVI'\u001b[0m\u001b[0;34m]\u001b[0m\u001b[0;34m\u001b[0m\u001b[0;34m\u001b[0m\u001b[0m\n\u001b[0m\u001b[1;32m      8\u001b[0m     \u001b[0;32mreturn\u001b[0m \u001b[0mmean\u001b[0m\u001b[0;34m\u001b[0m\u001b[0;34m\u001b[0m\u001b[0m\n",
      "\u001b[0;31mKeyError\u001b[0m: 'NDVI'"
     ]
    }
   ],
   "source": [
    "for wk in range(25,1131):\n",
    "    display.clear_output(wait=True)\n",
    "    timeSeriesNDVI.append(weekly_image_TS(wk))\n",
    "    print(wk)"
   ]
  },
  {
   "cell_type": "code",
   "execution_count": null,
   "id": "acdcb691",
   "metadata": {},
   "outputs": [],
   "source": []
  }
 ],
 "metadata": {
  "kernelspec": {
   "display_name": "Python 3 (ipykernel)",
   "language": "python",
   "name": "python3"
  },
  "language_info": {
   "codemirror_mode": {
    "name": "ipython",
    "version": 3
   },
   "file_extension": ".py",
   "mimetype": "text/x-python",
   "name": "python",
   "nbconvert_exporter": "python",
   "pygments_lexer": "ipython3",
   "version": "3.9.6"
  }
 },
 "nbformat": 4,
 "nbformat_minor": 5
}
