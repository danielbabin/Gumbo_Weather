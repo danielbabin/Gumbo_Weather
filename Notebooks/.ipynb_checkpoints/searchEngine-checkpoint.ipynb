{
 "cells": [
  {
   "cell_type": "code",
   "execution_count": 52,
   "id": "9360e330",
   "metadata": {},
   "outputs": [],
   "source": [
    "import pandas as pd\n",
    "import matplotlib.pyplot as plt\n",
    "import numpy as np"
   ]
  },
  {
   "cell_type": "code",
   "execution_count": 2,
   "id": "5fafd1e7",
   "metadata": {},
   "outputs": [],
   "source": [
    "data_path='/Users/danielbabin/GitHub/LouisianaWinters/Data/'"
   ]
  },
  {
   "cell_type": "code",
   "execution_count": 6,
   "id": "fea6e21e",
   "metadata": {},
   "outputs": [],
   "source": [
    "search=pd.read_csv(data_path+'searchdata.csv',header=2)\n",
    "search['datetime']=pd.to_datetime(search['Month'],format='%Y-%m')\n",
    "search.set_index('datetime',inplace=True)"
   ]
  },
  {
   "cell_type": "code",
   "execution_count": 22,
   "id": "82f15af0",
   "metadata": {},
   "outputs": [],
   "source": [
    "septs=search[(search.index.month==10)&(search.index.year>2009)]\n",
    "octs=search[(search.index.month==10)&(search.index.year>2009)]\n",
    "novs=search[(search.index.month==11)&(search.index.year>2009)]\n",
    "decs=search[(search.index.month==12)&(search.index.year>2009)]"
   ]
  },
  {
   "cell_type": "code",
   "execution_count": 60,
   "id": "900fab2b",
   "metadata": {},
   "outputs": [],
   "source": [
    "fhalfs_values=[]\n",
    "shalfs_values=[]\n",
    "fhalfs_variability=[]\n",
    "shalfs_variability=[]\n",
    "for i,mon in enumerate([septs,octs,novs,decs]):    \n",
    "    fhalfs_values.append(mon.loc['2010':'2015','gumbo recipe: (Louisiana)'].mean())\n",
    "    shalfs_values.append(mon.loc['2016':'2021','gumbo recipe: (Louisiana)'].mean())\n",
    "    fhalfs_variability.append(mon.loc['2010':'2015','gumbo recipe: (Louisiana)'].std())\n",
    "    shalfs_variability.append(mon.loc['2016':'2021','gumbo recipe: (Louisiana)'].std())"
   ]
  },
  {
   "cell_type": "code",
   "execution_count": 61,
   "id": "fc43771a",
   "metadata": {},
   "outputs": [],
   "source": [
    "summary_values=pd.DataFrame({'2010-2015':fhalfs_values,'2016-2021':shalfs_values},\n",
    "                            index=['September','October','November','December'])\n",
    "summary_variability=pd.DataFrame({'2010-2015':fhalfs_variability,'2016-2021':shalfs_variability},\n",
    "                                 index=['September','October','November','December'])"
   ]
  },
  {
   "cell_type": "code",
   "execution_count": 67,
   "id": "05d763fa",
   "metadata": {},
   "outputs": [
    {
     "data": {
      "image/png": "[encoded data removed]",
      "text/plain": [
       "<Figure size 432x288 with 1 Axes>"
      ]
     },
     "metadata": {
      "needs_background": "light"
     },
     "output_type": "display_data"
    }
   ],
   "source": [
    "fig,ax=plt.subplots()\n",
    "summary_values.plot(kind='bar',ax=ax)\n",
    "ax.errorbar(np.arange(0,4)-.125,summary_values['2010-2015'],yerr=summary_variability['2010-2015'],color='k',ls='')\n",
    "ax.errorbar(np.arange(0,4)+.125,summary_values['2016-2021'],yerr=summary_variability['2016-2021'],color='k',ls='')\n",
    "\n",
    "\n",
    "ax.set_ylabel('Average Search Score')\n",
    "ax.set_title('Google Searches for \"Gumbo Recipe\"')\n",
    "labels = ['September', 'October', 'November', 'December']\n",
    "ax.set_xticklabels(labels, rotation=0, ha='center');"
   ]
  },
  {
   "cell_type": "code",
   "execution_count": null,
   "id": "17cc98a6",
   "metadata": {},
   "outputs": [],
   "source": []
  }
 ],
 "metadata": {
  "kernelspec": {
   "display_name": "Python 3 (ipykernel)",
   "language": "python",
   "name": "python3"
  },
  "language_info": {
   "codemirror_mode": {
    "name": "ipython",
    "version": 3
   },
   "file_extension": ".py",
   "mimetype": "text/x-python",
   "name": "python",
   "nbconvert_exporter": "python",
   "pygments_lexer": "ipython3",
   "version": "3.9.6"
  }
 },
 "nbformat": 4,
 "nbformat_minor": 5
}
